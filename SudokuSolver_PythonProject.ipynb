{
  "nbformat": 4,
  "nbformat_minor": 0,
  "metadata": {
    "colab": {
      "provenance": [],
      "authorship_tag": "ABX9TyOb+jRiUsJX0sP6v6meDTFi",
      "include_colab_link": true
    },
    "kernelspec": {
      "name": "python3",
      "display_name": "Python 3"
    },
    "language_info": {
      "name": "python"
    }
  },
  "cells": [
    {
      "cell_type": "markdown",
      "metadata": {
        "id": "view-in-github",
        "colab_type": "text"
      },
      "source": [
        "<a href=\"https://colab.research.google.com/github/ZoyaAfzal/25-Python-Projects/blob/main/SudokuSolver_PythonProject.ipynb\" target=\"_parent\"><img src=\"https://colab.research.google.com/assets/colab-badge.svg\" alt=\"Open In Colab\"/></a>"
      ]
    },
    {
      "cell_type": "code",
      "execution_count": 5,
      "metadata": {
        "colab": {
          "base_uri": "https://localhost:8080/"
        },
        "id": "xD5gaN9Q7Y2R",
        "outputId": "68af7dcf-34a9-4687-9fd2-7bf84384c4e7"
      },
      "outputs": [
        {
          "output_type": "stream",
          "name": "stdout",
          "text": [
            "True\n",
            "[[3, 9, 1, 8, 5, 6, 4, 2, 7], [8, 6, 7, 2, 3, 4, 9, 1, 5], [4, 2, 5, 7, 1, 9, 6, 8, 3], [7, 5, 4, 9, 6, 8, 1, 3, 2], [2, 1, 6, 4, 7, 3, 5, 9, 8], [9, 3, 8, 5, 2, 1, 7, 6, 4], [5, 4, 3, 6, 9, 2, 8, 7, 1], [6, 7, 2, 1, 8, 5, 3, 4, 9], [1, 8, 9, 3, 4, 7, 2, 5, 6]]\n"
          ]
        }
      ],
      "source": [
        "def find_next_empty(puzzle):\n",
        "  for r in range(9):\n",
        "    for c in range(9):\n",
        "      if puzzle[r][c] == -1:\n",
        "        return r, c\n",
        "  return None, None\n",
        "\n",
        "def is_valid(puzzle, guess, row, col):\n",
        "  row_vals = puzzle[row]\n",
        "  if guess in row_vals:\n",
        "    return False\n",
        "\n",
        "  col_vals = [puzzle[i][col] for i in range(9)]\n",
        "  if guess in col_vals:\n",
        "    return False\n",
        "\n",
        "  row_start = (row // 3) * 3\n",
        "  col_start = (col // 3) * 3\n",
        "\n",
        "  for r in range(row_start, row_start + 3):\n",
        "    for c in range(col_start, col_start + 3):\n",
        "      if puzzle[r][c] == guess:\n",
        "        return False\n",
        "  return True\n",
        "\n",
        "def solve_sudoku(puzzle):\n",
        "  row, col = find_next_empty(puzzle)\n",
        "  if row is None:\n",
        "    return True\n",
        "\n",
        "  for guess in range(1, 10):\n",
        "    if is_valid(puzzle, guess, row, col):\n",
        "      puzzle[row][col] = guess\n",
        "      if solve_sudoku(puzzle):\n",
        "        return True\n",
        "      puzzle[row][col] = -1\n",
        "  return False\n",
        "\n",
        "if __name__ == '__main__':\n",
        "  example_board = [\n",
        "      [3, 9, -1,  -1, 5, -1,  -1, -1, -1],\n",
        "      [-1, -1, -1,  2, -1, -1,  -1, -1, 5],\n",
        "      [-1, -1, -1,  7, 1, 9,   -1, 8, -1],\n",
        "\n",
        "      [-1, 5, -1,  -1, 6, 8,  -1, -1, -1],\n",
        "      [2, -1, 6,  -1, -1, 3,  -1, -1, -1],\n",
        "      [-1, -1, -1,  -1, -1, -1,  -1, -1, 4],\n",
        "\n",
        "      [5, -1, -1,  -1, -1, -1,  -1, -1, -1],\n",
        "      [6, 7, -1,  1, -1, 5,   -1, 4, -1],\n",
        "      [1, -1, 9,  -1, -1, -1,  2, -1, -1]\n",
        "  ]\n",
        "  print(solve_sudoku(example_board))\n",
        "  print(example_board)\n",
        "\n",
        "\n"
      ]
    },
    {
      "cell_type": "code",
      "source": [],
      "metadata": {
        "id": "VG3F933UB8Gf"
      },
      "execution_count": null,
      "outputs": []
    }
  ]
}
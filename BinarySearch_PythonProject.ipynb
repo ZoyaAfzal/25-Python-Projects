{
  "nbformat": 4,
  "nbformat_minor": 0,
  "metadata": {
    "colab": {
      "provenance": [],
      "authorship_tag": "ABX9TyPlBCj/stkDVObeVjmc5knz",
      "include_colab_link": true
    },
    "kernelspec": {
      "name": "python3",
      "display_name": "Python 3"
    },
    "language_info": {
      "name": "python"
    }
  },
  "cells": [
    {
      "cell_type": "markdown",
      "metadata": {
        "id": "view-in-github",
        "colab_type": "text"
      },
      "source": [
        "<a href=\"https://colab.research.google.com/github/ZoyaAfzal/25-Python-Projects/blob/main/BinarySearch_PythonProject.ipynb\" target=\"_parent\"><img src=\"https://colab.research.google.com/assets/colab-badge.svg\" alt=\"Open In Colab\"/></a>"
      ]
    },
    {
      "cell_type": "code",
      "execution_count": 4,
      "metadata": {
        "colab": {
          "base_uri": "https://localhost:8080/"
        },
        "id": "hxUgjwNb-GEh",
        "outputId": "b64740a4-f380-46b4-c7f0-c136b40e02bc"
      },
      "outputs": [
        {
          "output_type": "stream",
          "name": "stdout",
          "text": [
            "Naive search time:  6.149196624755859e-05 seconds\n",
            "Binary search time:  1.7592906951904296e-06 seconds\n"
          ]
        }
      ],
      "source": [
        "import random\n",
        "import time\n",
        "\n",
        "def naive_search(l, target):\n",
        "  for i in range(len(l)):\n",
        "    if len(l) == target:\n",
        "      return i\n",
        "  return -1\n",
        "\n",
        "def binary_search(l, target, low=None, high=None):\n",
        "  if low is None:\n",
        "    low = 0\n",
        "  if high is None:\n",
        "    high = len(l) -1\n",
        "  if high < low:\n",
        "    return -1\n",
        "  midpoint = (low + high) // 2\n",
        "\n",
        "  if l[midpoint] == target:\n",
        "    return midpoint\n",
        "  elif target < l[midpoint]:\n",
        "    return binary_search(l, target, low, midpoint-1)\n",
        "  else:\n",
        "    return binary_search(l, target, midpoint+1, high)\n",
        "\n",
        "if __name__ == '__main__':\n",
        "  length = 1000\n",
        "\n",
        "  sorted_list = set()\n",
        "  while len(sorted_list) < length:\n",
        "    sorted_list.add(random.randint(-3*length, 3*length))\n",
        "  sorted_list = sorted(list(sorted_list))\n",
        "\n",
        "  start = time.time()\n",
        "  for target in sorted_list:\n",
        "    naive_search(sorted_list, target)\n",
        "  end = time.time()\n",
        "  print('Naive search time: ', (end - start)/length, 'seconds')\n",
        "\n",
        "  start = time.time()\n",
        "  for target in sorted_list:\n",
        "    binary_search(sorted_list, target)\n",
        "  end = time.time()\n",
        "  print('Binary search time: ', (end - start)/length, 'seconds')\n"
      ]
    }
  ]
}
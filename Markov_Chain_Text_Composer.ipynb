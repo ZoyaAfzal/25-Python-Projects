{
  "nbformat": 4,
  "nbformat_minor": 0,
  "metadata": {
    "colab": {
      "provenance": [],
      "authorship_tag": "ABX9TyPCI0V2qKymcQGjeON76j3Y",
      "include_colab_link": true
    },
    "kernelspec": {
      "name": "python3",
      "display_name": "Python 3"
    },
    "language_info": {
      "name": "python"
    }
  },
  "cells": [
    {
      "cell_type": "markdown",
      "metadata": {
        "id": "view-in-github",
        "colab_type": "text"
      },
      "source": [
        "<a href=\"https://colab.research.google.com/github/ZoyaAfzal/25-Python-Projects/blob/main/Markov_Chain_Text_Composer.ipynb\" target=\"_parent\"><img src=\"https://colab.research.google.com/assets/colab-badge.svg\" alt=\"Open In Colab\"/></a>"
      ]
    },
    {
      "cell_type": "code",
      "execution_count": 1,
      "metadata": {
        "colab": {
          "base_uri": "https://localhost:8080/"
        },
        "id": "R_BIoY4BOgMo",
        "outputId": "b7a5e612-575f-4af2-e27b-264cf84c7967"
      },
      "outputs": [
        {
          "output_type": "stream",
          "name": "stdout",
          "text": [
            "Collecting lyricsgenius\n",
            "  Downloading lyricsgenius-3.6.2-py3-none-any.whl.metadata (6.1 kB)\n",
            "Collecting markovify\n",
            "  Downloading markovify-0.9.4.tar.gz (27 kB)\n",
            "  Preparing metadata (setup.py) ... \u001b[?25l\u001b[?25hdone\n",
            "Requirement already satisfied: beautifulsoup4>=4.12.3 in /usr/local/lib/python3.11/dist-packages (from lyricsgenius) (4.13.4)\n",
            "Requirement already satisfied: requests>=2.27.1 in /usr/local/lib/python3.11/dist-packages (from lyricsgenius) (2.32.3)\n",
            "Collecting unidecode (from markovify)\n",
            "  Downloading Unidecode-1.4.0-py3-none-any.whl.metadata (13 kB)\n",
            "Requirement already satisfied: soupsieve>1.2 in /usr/local/lib/python3.11/dist-packages (from beautifulsoup4>=4.12.3->lyricsgenius) (2.7)\n",
            "Requirement already satisfied: typing-extensions>=4.0.0 in /usr/local/lib/python3.11/dist-packages (from beautifulsoup4>=4.12.3->lyricsgenius) (4.13.2)\n",
            "Requirement already satisfied: charset-normalizer<4,>=2 in /usr/local/lib/python3.11/dist-packages (from requests>=2.27.1->lyricsgenius) (3.4.1)\n",
            "Requirement already satisfied: idna<4,>=2.5 in /usr/local/lib/python3.11/dist-packages (from requests>=2.27.1->lyricsgenius) (3.10)\n",
            "Requirement already satisfied: urllib3<3,>=1.21.1 in /usr/local/lib/python3.11/dist-packages (from requests>=2.27.1->lyricsgenius) (2.4.0)\n",
            "Requirement already satisfied: certifi>=2017.4.17 in /usr/local/lib/python3.11/dist-packages (from requests>=2.27.1->lyricsgenius) (2025.4.26)\n",
            "Downloading lyricsgenius-3.6.2-py3-none-any.whl (44 kB)\n",
            "\u001b[2K   \u001b[90m━━━━━━━━━━━━━━━━━━━━━━━━━━━━━━━━━━━━━━━━\u001b[0m \u001b[32m44.8/44.8 kB\u001b[0m \u001b[31m2.5 MB/s\u001b[0m eta \u001b[36m0:00:00\u001b[0m\n",
            "\u001b[?25hDownloading Unidecode-1.4.0-py3-none-any.whl (235 kB)\n",
            "\u001b[2K   \u001b[90m━━━━━━━━━━━━━━━━━━━━━━━━━━━━━━━━━━━━━━━━\u001b[0m \u001b[32m235.8/235.8 kB\u001b[0m \u001b[31m15.4 MB/s\u001b[0m eta \u001b[36m0:00:00\u001b[0m\n",
            "\u001b[?25hBuilding wheels for collected packages: markovify\n",
            "  Building wheel for markovify (setup.py) ... \u001b[?25l\u001b[?25hdone\n",
            "  Created wheel for markovify: filename=markovify-0.9.4-py3-none-any.whl size=18606 sha256=828e2dc96f2dbbf215c312c6ef88be76a3e6ac7cf9fc79248fe4188d489fbdb3\n",
            "  Stored in directory: /root/.cache/pip/wheels/9c/20/eb/1a3fb93f3132f2f9683e4efd834800f80c53aeddf50e84ae80\n",
            "Successfully built markovify\n",
            "Installing collected packages: unidecode, markovify, lyricsgenius\n",
            "Successfully installed lyricsgenius-3.6.2 markovify-0.9.4 unidecode-1.4.0\n"
          ]
        }
      ],
      "source": [
        "!pip install lyricsgenius markovify\n"
      ]
    },
    {
      "cell_type": "code",
      "source": [
        "import lyricsgenius\n",
        "import random\n",
        "import os\n"
      ],
      "metadata": {
        "id": "6GBKyyrjQxLf"
      },
      "execution_count": 9,
      "outputs": []
    },
    {
      "cell_type": "code",
      "source": [
        "\n",
        "import random\n",
        "\n",
        "class Vertex(object):\n",
        "    def __init__(self, value):\n",
        "        self.value = value\n",
        "        self.adjacent = {}\n",
        "        self.neighbors = []\n",
        "        self.neighbors_weights = []\n",
        "\n",
        "    def __str__(self):\n",
        "        return self.value + ' '.join([node.value for node in self.adjacent.keys()])\n",
        "\n",
        "    def add_edge_to(self, vertex, weight=0):\n",
        "        self.adjacent[vertex] = weight\n",
        "\n",
        "    def increment_edge(self, vertex):\n",
        "        self.adjacent[vertex] = self.adjacent.get(vertex, 0) + 1\n",
        "\n",
        "    def get_adjacent_nodes(self):\n",
        "        return self.adjacent.keys()\n",
        "\n",
        "    # initializes probability map\n",
        "    def get_probability_map(self):\n",
        "        for (vertex, weight) in self.adjacent.items():\n",
        "            self.neighbors.append(vertex)\n",
        "            self.neighbors_weights.append(weight)\n",
        "\n",
        "    def next_word(self):\n",
        "        return random.choices(self.neighbors, weights=self.neighbors_weights)[0]\n",
        "\n",
        "\n",
        "\n",
        "class Graph(object):\n",
        "    def __init__(self):\n",
        "        self.vertices = {}\n",
        "\n",
        "    def get_vertex_values(self):\n",
        "        return set(self.vertices.keys())\n",
        "\n",
        "    def add_vertex(self, value):\n",
        "        self.vertices[value] = Vertex(value)\n",
        "\n",
        "    def get_vertex(self, value):\n",
        "        if value not in self.vertices:\n",
        "            self.add_vertex(value)\n",
        "        return self.vertices[value]\n",
        "\n",
        "    def get_next_word(self, current_vertex):\n",
        "        return self.vertices[current_vertex.value].next_word()\n",
        "\n",
        "    def generate_probability_mappings(self):\n",
        "        for vertex in self.vertices.values():\n",
        "            vertex.get_probability_map()\n",
        "\n",
        "    def walk_chain(self, num_words):\n",
        "        current_vertex = random.choice(list(self.vertices.values()))\n",
        "        output = [current_vertex.value]\n",
        "\n",
        "        for _ in range(num_words - 1):\n",
        "            next_vertex = current_vertex.next_word()\n",
        "            output.append(next_vertex.value)\n",
        "            current_vertex = next_vertex\n",
        "\n",
        "        return ' '.join(output)\n"
      ],
      "metadata": {
        "id": "fIAZVgd0ZD6h"
      },
      "execution_count": 24,
      "outputs": []
    },
    {
      "cell_type": "code",
      "source": [
        "genius = lyricsgenius.Genius(\"hjRYdnTFZMpbZ0Gombbc6mob6SFcdSYKEkjvJOQac73HrGnRzLOeNVS-xa3Zipa8\")\n",
        "genius.skip_non_songs = True\n",
        "genius.excluded_terms = [\"(Remix)\", \"(Live)\"]\n"
      ],
      "metadata": {
        "id": "wAFA_i6uRHLh"
      },
      "execution_count": 10,
      "outputs": []
    },
    {
      "cell_type": "code",
      "source": [
        "#Fetching lyrics for a song list\n",
        "\n",
        "def get_lyrics(song_titles, artist):\n",
        "    lyrics = ''\n",
        "    for title in song_titles:\n",
        "        try:\n",
        "            song = genius.search_song(title, artist)\n",
        "            if song:\n",
        "                lyrics += song.lyrics.replace('\\n', ' ') + ' '\n",
        "        except:\n",
        "            print(f\"Couldn't fetch {title}\")\n",
        "    return lyrics.lower()\n"
      ],
      "metadata": {
        "id": "v8qX3xAwUOL5"
      },
      "execution_count": 21,
      "outputs": []
    },
    {
      "cell_type": "code",
      "source": [
        "# Building Markov Chain from lyrics\n",
        "\n",
        "def build_markov_model():\n",
        "    text = \"\"\n",
        "    for file in os.listdir('lyrics'):\n",
        "        with open(f'lyrics/{file}', 'r', encoding='utf-8') as f:\n",
        "            text += f.read() + '\\n'\n",
        "    return markovify.NewlineText(text)\n"
      ],
      "metadata": {
        "id": "XyjzD-u9UcDl"
      },
      "execution_count": 6,
      "outputs": []
    },
    {
      "cell_type": "code",
      "source": [
        "#Tokenize and buiding the graph\n",
        "\n",
        "def build_markov_chain(text):\n",
        "    words = text.split()\n",
        "    g = Graph()\n",
        "\n",
        "    prev_word = None\n",
        "    for word in words:\n",
        "        current_vertex = g.get_vertex(word)\n",
        "        if prev_word:\n",
        "            prev_vertex = g.get_vertex(prev_word)\n",
        "            prev_vertex.increment_edge(current_vertex)\n",
        "        prev_word = word\n",
        "\n",
        "    g.generate_probability_mappings()\n",
        "    return g\n",
        "\n"
      ],
      "metadata": {
        "id": "_v-SsgxhVHRS"
      },
      "execution_count": 13,
      "outputs": []
    },
    {
      "cell_type": "code",
      "source": [
        "#Generating text using Markov Chain\n",
        "\n",
        "def compose_text(graph, length=50):\n",
        "    current_word = random.choice(list(graph.get_vertex_values()))\n",
        "    output = [current_word]\n",
        "\n",
        "    for _ in range(length - 1):\n",
        "        current_vertex = graph.get_vertex(current_word)\n",
        "        next_vertex = graph.get_next_word(current_vertex)\n",
        "        current_word = next_vertex.value\n",
        "        output.append(current_word)\n",
        "\n",
        "    return ' '.join(output)\n"
      ],
      "metadata": {
        "id": "PqK3Yr2iYPJH"
      },
      "execution_count": 14,
      "outputs": []
    },
    {
      "cell_type": "code",
      "source": [
        "songs = [\n",
        "    'the box',\n",
        "    'down below',\n",
        "    'project dreams',\n",
        "    'die young',\n",
        "    'boom boom room',\n",
        "    'high fashion',\n",
        "    'roll dice',\n",
        "    'war baby',\n",
        "    'every season'\n",
        "]\n",
        "\n",
        "lyrics_text = get_lyrics(songs, 'Roddy Ricch')\n",
        "markov_graph = build_markov_chain(lyrics_text)\n",
        "\n",
        "def prettify(text):\n",
        "    text = text.capitalize()\n",
        "    words = text.split()\n",
        "    output = ''\n",
        "    for i, word in enumerate(words):\n",
        "        output += word + ' '\n",
        "        if (i + 1) % 10 == 0:\n",
        "            output += '\\n'\n",
        "    return output.strip()\n",
        "\n",
        "generated_text = markov_graph.walk_chain(num_words=100)\n",
        "print(prettify(generated_text))\n",
        "\n"
      ],
      "metadata": {
        "colab": {
          "base_uri": "https://localhost:8080/"
        },
        "id": "4GR6BShmVyqT",
        "outputId": "57c9813a-38e0-4cff-f75c-21832e6cc5e8"
      },
      "execution_count": 25,
      "outputs": [
        {
          "output_type": "stream",
          "name": "stdout",
          "text": [
            "Searching for \"the box\" by Roddy Ricch...\n",
            "Done.\n",
            "Searching for \"down below\" by Roddy Ricch...\n",
            "Done.\n",
            "Searching for \"project dreams\" by Roddy Ricch...\n",
            "Done.\n",
            "Searching for \"die young\" by Roddy Ricch...\n",
            "Done.\n",
            "Searching for \"boom boom room\" by Roddy Ricch...\n",
            "Done.\n",
            "Searching for \"high fashion\" by Roddy Ricch...\n",
            "Done.\n",
            "Searching for \"roll dice\" by Roddy Ricch...\n",
            "Done.\n",
            "Searching for \"war baby\" by Roddy Ricch...\n",
            "Done.\n",
            "Searching for \"every season\" by Roddy Ricch...\n",
            "Done.\n",
            "Slatt, slatt i gotta keep my jewelry wetter than carried \n",
            "by one stood ten racks thought you trappin', make it \n",
            "on go, yeah) down on the bottom, check your face, \n",
            "botox my dawg just caught his neck like a nigga \n",
            "gotta keep it look at the meter i'm a mannequin \n",
            "i'm a couple p's then i am, i-i-i (ice) so \n",
            "annoying i was down below (down below), down below down \n",
            "on me, why she don't need her tongue-tied i was \n",
            "fightin' fed cases, 'member them birds sending out the mojo \n",
            "deals, we throw it one time and the head chef\n"
          ]
        }
      ]
    }
  ]
}
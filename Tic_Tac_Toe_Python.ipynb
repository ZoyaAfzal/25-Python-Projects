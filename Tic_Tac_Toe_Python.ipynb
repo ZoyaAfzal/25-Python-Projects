{
  "nbformat": 4,
  "nbformat_minor": 0,
  "metadata": {
    "colab": {
      "provenance": [],
      "authorship_tag": "ABX9TyMpW/9UjQu9UFM/0nqi55yu",
      "include_colab_link": true
    },
    "kernelspec": {
      "name": "python3",
      "display_name": "Python 3"
    },
    "language_info": {
      "name": "python"
    }
  },
  "cells": [
    {
      "cell_type": "markdown",
      "metadata": {
        "id": "view-in-github",
        "colab_type": "text"
      },
      "source": [
        "<a href=\"https://colab.research.google.com/github/ZoyaAfzal/25-Python-Projects/blob/main/Tic_Tac_Toe_Python.ipynb\" target=\"_parent\"><img src=\"https://colab.research.google.com/assets/colab-badge.svg\" alt=\"Open In Colab\"/></a>"
      ]
    },
    {
      "cell_type": "code",
      "execution_count": 107,
      "metadata": {
        "colab": {
          "base_uri": "https://localhost:8080/"
        },
        "id": "kpcEfpWzUJWB",
        "outputId": "75e8811d-d81c-46b3-b4c4-0bfde93720cf"
      },
      "outputs": [
        {
          "output_type": "stream",
          "name": "stdout",
          "text": [
            "Overwriting player.py\n"
          ]
        }
      ],
      "source": [
        "%%writefile player.py\n",
        "import math\n",
        "import random\n",
        "\n",
        "class Player:\n",
        "  def __init__(self, letter):\n",
        "    self.letter = letter\n",
        "\n",
        "  def get_move(self, game):\n",
        "    pass\n",
        "\n",
        "class RandomComputerPlayer(Player):\n",
        "  def __init__(self, letter):\n",
        "    super().__init__(letter)\n",
        "\n",
        "  def get_move(self, game):\n",
        "    square = random.choice(game.available_moves())\n",
        "    return square\n",
        "\n",
        "class HumanPlayer(Player):\n",
        "  def __init__(self, letter):\n",
        "    super().__init__(letter)\n",
        "\n",
        "  def get_move(self, game):\n",
        "    valid_square = False\n",
        "    val = None\n",
        "    while not valid_square:\n",
        "      square = input(self.letter +'\\'s turn. Input move (0-8): ')\n",
        "      try:\n",
        "        val = int(square)\n",
        "        if val not in game.available_moves():\n",
        "          raise ValueError\n",
        "        valid_square = True\n",
        "      except ValueError:\n",
        "        print('Invalid square. Try again.')\n",
        "    return val\n",
        ""
      ]
    },
    {
      "cell_type": "code",
      "source": [
        "%%writefile game.py\n",
        "\n",
        "class TicTacToe:\n",
        "  def __init__(self):\n",
        "    self.board = [' ' for _ in range(9)]\n",
        "    self.current_winner = None\n",
        "\n",
        "  def print_board(self):\n",
        "    for row in [self.board[i*3:(i+1)*3] for i in range(3)]:\n",
        "      print('| ' + '| '.join(row) + ' |')\n",
        "\n",
        "  @staticmethod\n",
        "  def print_board_nums():\n",
        "    number_board = [[str(i) for i in range(j*3, (j+1)*3)] for j in range(3)]\n",
        "    for row in number_board:\n",
        "      print('| ' + '| '.join(row) + ' |')\n",
        "\n",
        "  def available_moves(self):\n",
        "    return [i for i, spot in enumerate(self.board) if spot == ' ']\n",
        "\n",
        "  def empty_squares(self):\n",
        "    return ' ' in self.board\n",
        "\n",
        "  def num_empty_squares(self):\n",
        "    return self.board.count(' ')\n",
        "\n",
        "  def make_move(self, square, letter):\n",
        "    if self.board[square] == ' ':\n",
        "      self.board[square] = letter\n",
        "      if self.winner (square, letter):\n",
        "        self.current_winner = letter\n",
        "      return True\n",
        "    return False\n",
        "\n",
        "  def winner(self, square, letter):\n",
        "    row_ind = square // 3\n",
        "    row = self.board[row_ind*3: (row_ind+1)*3]\n",
        "    if all([spot == letter for spot in row]):\n",
        "      return True\n",
        "\n",
        "    col_ind = square % 3\n",
        "    column = [self.board[col_ind+i*3] for i in range(3)]\n",
        "    if all([spot == letter for spot in column]):\n",
        "      return True\n",
        "\n",
        "    if square % 2 == 0:\n",
        "      diagonal1 = [self.board[i] for i in [0, 4, 8]]\n",
        "      if all([spot == letter for spot in diagonal1]):\n",
        "        return True\n",
        "      diagonal2 = [self.board[i] for i in [2, 4, 6]]\n",
        "      if all ([spot == letter for spot in diagonal2]):\n",
        "        return True\n",
        "    return False\n",
        "\n"
      ],
      "metadata": {
        "colab": {
          "base_uri": "https://localhost:8080/"
        },
        "id": "pCY3A7F7WtMN",
        "outputId": "fb48dc50-54c2-471c-eecb-b6a9259f7f2c"
      },
      "execution_count": 109,
      "outputs": [
        {
          "output_type": "stream",
          "name": "stdout",
          "text": [
            "Overwriting game.py\n"
          ]
        }
      ]
    },
    {
      "cell_type": "code",
      "source": [
        " %%writefile main.py\n",
        "from game import TicTacToe\n",
        "from player import HumanPlayer, RandomComputerPlayer\n",
        "import time\n",
        "import random\n",
        "\n",
        "def play(game, x_player, o_player, print_game=True):\n",
        "    game.print_board()\n",
        "    print(' ')\n",
        "\n",
        "    letter = 'X'\n",
        "    while game.empty_squares():\n",
        "      if letter == 'O':\n",
        "        print(\"Computer (O) is thinking...\")\n",
        "        time.sleep(1)\n",
        "        square = o_player.get_move(game)\n",
        "      else:\n",
        "        square = x_player.get_move(game)\n",
        "\n",
        "      if game.make_move(square, letter):\n",
        "        if print_game:\n",
        "          print(letter + f'makes a move to square {square}')\n",
        "          game.print_board()\n",
        "          print(' ')\n",
        "\n",
        "        if game.current_winner:\n",
        "          if print_game:\n",
        "            print(letter + 'wins!')\n",
        "          return letter\n",
        "\n",
        "        letter = 'O' if letter == 'X' else 'X'\n",
        "\n",
        "      time.sleep(0.8)\n",
        "\n",
        "    if print_game:\n",
        "      print('It\\'s a tie!')\n",
        "\n",
        "if __name__ == '__main__':\n",
        "  x_player = HumanPlayer('X')\n",
        "  o_player = RandomComputerPlayer('O')\n",
        "  t = TicTacToe()\n",
        "  play(t, x_player, o_player, print_game=True)"
      ],
      "metadata": {
        "colab": {
          "base_uri": "https://localhost:8080/"
        },
        "id": "YOTFmCOWugOq",
        "outputId": "ab1bd98a-1c3d-465a-bb75-0696a1558134"
      },
      "execution_count": 112,
      "outputs": [
        {
          "output_type": "stream",
          "name": "stdout",
          "text": [
            "Overwriting main.py\n"
          ]
        }
      ]
    },
    {
      "cell_type": "code",
      "source": [
        "!python3 main.py\n"
      ],
      "metadata": {
        "colab": {
          "base_uri": "https://localhost:8080/"
        },
        "id": "0Qc38FbrvI2f",
        "outputId": "94518f3f-922c-4f3c-8be4-1fa257913629"
      },
      "execution_count": 113,
      "outputs": [
        {
          "output_type": "stream",
          "name": "stdout",
          "text": [
            "|  |  |   |\n",
            "|  |  |   |\n",
            "|  |  |   |\n",
            " \n",
            "X's turn. Input move (0-8): 4\n",
            "Xmakes a move to square 4\n",
            "|  |  |   |\n",
            "|  | X|   |\n",
            "|  |  |   |\n",
            " \n",
            "Computer (O) is thinking...\n",
            "Omakes a move to square 8\n",
            "|  |  |   |\n",
            "|  | X|   |\n",
            "|  |  | O |\n",
            " \n",
            "X's turn. Input move (0-8): 2\n",
            "Xmakes a move to square 2\n",
            "|  |  | X |\n",
            "|  | X|   |\n",
            "|  |  | O |\n",
            " \n",
            "Computer (O) is thinking...\n",
            "Omakes a move to square 7\n",
            "|  |  | X |\n",
            "|  | X|   |\n",
            "|  | O| O |\n",
            " \n",
            "X's turn. Input move (0-8): 6\n",
            "Xmakes a move to square 6\n",
            "|  |  | X |\n",
            "|  | X|   |\n",
            "| X| O| O |\n",
            " \n",
            "Xwins!\n"
          ]
        }
      ]
    }
  ]
}